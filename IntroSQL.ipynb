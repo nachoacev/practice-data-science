{
  "nbformat": 4,
  "nbformat_minor": 0,
  "metadata": {
    "colab": {
      "provenance": [],
      "authorship_tag": "ABX9TyM3Ec5GKEdmQd7ckho65zTq",
      "include_colab_link": true
    },
    "kernelspec": {
      "name": "python3",
      "display_name": "Python 3"
    },
    "language_info": {
      "name": "python"
    }
  },
  "cells": [
    {
      "cell_type": "markdown",
      "metadata": {
        "id": "view-in-github",
        "colab_type": "text"
      },
      "source": [
        "<a href=\"https://colab.research.google.com/github/nachoacev/practice-data-science/blob/main/IntroSQL.ipynb\" target=\"_parent\"><img src=\"https://colab.research.google.com/assets/colab-badge.svg\" alt=\"Open In Colab\"/></a>"
      ]
    },
    {
      "cell_type": "markdown",
      "source": [
        "# Intro to SQL\n",
        "\n",
        "Structured Query Language, or **SQL**, is the programming language used with databases, and it is an important skill for any data scientist. We'll build our SQL skills using **BigQuery**, *a web service that lets you apply SQL to huge datasets*.\n",
        "\n",
        "We'll learn the basics of accessing and examining BigQuery datasets."
      ],
      "metadata": {
        "id": "YdTLGba5bwme"
      }
    },
    {
      "cell_type": "markdown",
      "source": [
        "# BigQuery Commands `Client`, `dataset()`, `get_dataset()`\n",
        "\n",
        "To use BigQuery, we'll import the Python package below"
      ],
      "metadata": {
        "id": "x1u2ukcTexfq"
      }
    },
    {
      "cell_type": "markdown",
      "source": [
        "## Install and Authenticate"
      ],
      "metadata": {
        "id": "eNeYpNz3Sf7Z"
      }
    },
    {
      "cell_type": "code",
      "source": [
        "# Install BigQuery library\n",
        "#!pip install google-cloud-bigquery"
      ],
      "metadata": {
        "id": "hR9LHA5IRzBI"
      },
      "execution_count": 2,
      "outputs": []
    },
    {
      "cell_type": "code",
      "execution_count": 3,
      "metadata": {
        "id": "Zou0qqfCbHkX",
        "colab": {
          "base_uri": "https://localhost:8080/"
        },
        "outputId": "064f66f8-4a91-4065-e81a-5fe2b66a8952"
      },
      "outputs": [
        {
          "output_type": "stream",
          "name": "stdout",
          "text": [
            "Authenticated\n"
          ]
        }
      ],
      "source": [
        "# Authenticate with Google Cloud\n",
        "from google.colab import auth\n",
        "auth.authenticate_user()\n",
        "print('Authenticated')"
      ]
    },
    {
      "cell_type": "code",
      "source": [
        "from google.cloud import bigquery"
      ],
      "metadata": {
        "id": "Ksy5zXCASuWf"
      },
      "execution_count": 4,
      "outputs": []
    },
    {
      "cell_type": "markdown",
      "source": [
        "## Set up the BigQuery client"
      ],
      "metadata": {
        "id": "nXR-PeSPSl2J"
      }
    },
    {
      "cell_type": "markdown",
      "source": [
        "The first step in the workflow is to create a `Client` object. As we'll soon see, this `Client` object will play a central role in retrieving information from BigQuery datasets."
      ],
      "metadata": {
        "id": "aRX8_Zbwfm48"
      }
    },
    {
      "cell_type": "code",
      "source": [
        "# Create a \"Client\" object\n",
        "client = bigquery.Client()"
      ],
      "metadata": {
        "id": "-pz6XhT0e_lU"
      },
      "execution_count": 5,
      "outputs": []
    },
    {
      "cell_type": "markdown",
      "source": [
        "We'll work with a dataset of posts on Hacker News, a website focusing on computer science and cybersecurity news.\n",
        "\n",
        "In BigQuery, each dataset is contained in a corresponding project. In this case, our `hacker_news` dataset is contained in the `bigquery-public-data` project. To access the dataset,\n",
        "\n",
        "- We begin by constructing a reference to the dataset with the `dataset()` method.\n",
        "- Next, we use the `get_dataset()` method, along with the reference we just constructed, to fetch the dataset."
      ],
      "metadata": {
        "id": "s5kBRhUuh0ne"
      }
    },
    {
      "cell_type": "code",
      "source": [
        "# Construct a reference to the \"openaq\" dataset\n",
        "dataset_ref = client.dataset(\"openaq\", project=\"bigquery-public-data\")\n",
        "\n",
        "# API request - fetch the dataset\n",
        "dataset = client.get_dataset(dataset_ref)"
      ],
      "metadata": {
        "id": "Z3tltlXWgmrl"
      },
      "execution_count": 6,
      "outputs": []
    },
    {
      "cell_type": "code",
      "source": [
        "# Construct a reference to the \"chicago_crime\" dataset\n",
        "dataset_ref = client.dataset(\"chicago_crime\", project=\"bigquery-public-data\")\n",
        "\n",
        "# API request - fetch the dataset\n",
        "dataset = client.get_dataset(dataset_ref)"
      ],
      "metadata": {
        "id": "s1h8Cd4_hQIe"
      },
      "execution_count": 7,
      "outputs": []
    },
    {
      "cell_type": "markdown",
      "source": [
        "Every dataset is just a collection of tables. You can think of a dataset as a spreadsheet file containing multiple tables, all composed of rows and columns.\n",
        "\n",
        "We use the `list_tables()` method to list the tables in the dataset."
      ],
      "metadata": {
        "id": "D3wg6hPJ1g_U"
      }
    },
    {
      "cell_type": "code",
      "source": [
        "# List all the tables in \"chicago_crime\" dataset\n",
        "tables = list(client.list_tables(dataset))\n",
        "\n",
        "# Print names of all tables in the dataset\n",
        "for table in tables:\n",
        "  print(table.table_id)"
      ],
      "metadata": {
        "id": "XOoN42lWkMzw",
        "colab": {
          "base_uri": "https://localhost:8080/"
        },
        "outputId": "d0f7caea-f0ea-4c62-bfc0-bda53de008ad"
      },
      "execution_count": 9,
      "outputs": [
        {
          "output_type": "stream",
          "name": "stdout",
          "text": [
            "crime\n"
          ]
        }
      ]
    },
    {
      "cell_type": "markdown",
      "source": [
        "Similar to how we fetched a dataset, we can fetch a table."
      ],
      "metadata": {
        "id": "VSB-24XT2fk9"
      }
    },
    {
      "cell_type": "code",
      "source": [
        "# Construct a reference to the \"crime\" table\n",
        "table_ref = dataset_ref.table(\"crime\")\n",
        "\n",
        "# API request - fetch the table\n",
        "table = client.get_table(table_ref)"
      ],
      "metadata": {
        "id": "z3TRvnHn2OCI"
      },
      "execution_count": 10,
      "outputs": []
    },
    {
      "cell_type": "markdown",
      "source": [
        "# Table Squema `SchemaField`, `list_rows()`,\n",
        "\n",
        "The structure of a table is called its **schema**. We need to understand a table's schema to effectively pull out the data we want.\n",
        "\n",
        "In this example, we'll investigate the `crime` table that we fetched above."
      ],
      "metadata": {
        "id": "-h87Xb4o3Yr3"
      }
    },
    {
      "cell_type": "code",
      "source": [
        "# Print information on all columns in the \"crime\" table in the \"chicago_crime\" dataset\n",
        "table.schema"
      ],
      "metadata": {
        "colab": {
          "base_uri": "https://localhost:8080/"
        },
        "id": "eaWkBfNS3RXk",
        "outputId": "6d0fec88-973a-4b0b-e423-ab0439646820"
      },
      "execution_count": 11,
      "outputs": [
        {
          "output_type": "execute_result",
          "data": {
            "text/plain": [
              "[SchemaField('unique_key', 'INTEGER', 'REQUIRED', None, None, (), None),\n",
              " SchemaField('case_number', 'STRING', 'NULLABLE', None, None, (), None),\n",
              " SchemaField('date', 'TIMESTAMP', 'NULLABLE', None, None, (), None),\n",
              " SchemaField('block', 'STRING', 'NULLABLE', None, None, (), None),\n",
              " SchemaField('iucr', 'STRING', 'NULLABLE', None, None, (), None),\n",
              " SchemaField('primary_type', 'STRING', 'NULLABLE', None, None, (), None),\n",
              " SchemaField('description', 'STRING', 'NULLABLE', None, None, (), None),\n",
              " SchemaField('location_description', 'STRING', 'NULLABLE', None, None, (), None),\n",
              " SchemaField('arrest', 'BOOLEAN', 'NULLABLE', None, None, (), None),\n",
              " SchemaField('domestic', 'BOOLEAN', 'NULLABLE', None, None, (), None),\n",
              " SchemaField('beat', 'INTEGER', 'NULLABLE', None, None, (), None),\n",
              " SchemaField('district', 'INTEGER', 'NULLABLE', None, None, (), None),\n",
              " SchemaField('ward', 'INTEGER', 'NULLABLE', None, None, (), None),\n",
              " SchemaField('community_area', 'INTEGER', 'NULLABLE', None, None, (), None),\n",
              " SchemaField('fbi_code', 'STRING', 'NULLABLE', None, None, (), None),\n",
              " SchemaField('x_coordinate', 'FLOAT', 'NULLABLE', None, None, (), None),\n",
              " SchemaField('y_coordinate', 'FLOAT', 'NULLABLE', None, None, (), None),\n",
              " SchemaField('year', 'INTEGER', 'NULLABLE', None, None, (), None),\n",
              " SchemaField('updated_on', 'TIMESTAMP', 'NULLABLE', None, None, (), None),\n",
              " SchemaField('latitude', 'FLOAT', 'NULLABLE', None, None, (), None),\n",
              " SchemaField('longitude', 'FLOAT', 'NULLABLE', None, None, (), None),\n",
              " SchemaField('location', 'STRING', 'NULLABLE', None, None, (), None)]"
            ]
          },
          "metadata": {},
          "execution_count": 11
        }
      ]
    },
    {
      "cell_type": "markdown",
      "source": [
        "Each `SchemaField` tells us about a specific column (which we also refer to as a **field**). In order, the information is:\n",
        "\n",
        "- The **name** of the column\n",
        "- The **field type** (or datatype) in the column\n",
        "- The **mode** of the column ('NULLABLE' means that a column allows NULL values, and is the default)\n",
        "- A **description** of the data in that column\n",
        "\n",
        "We can use the `list_rows()` method to check just the first five lines of of the full table to make sure this is right. (Sometimes databases have outdated descriptions, so it's good to check.) This returns a BigQuery `RowIterator` object that can quickly be converted to a pandas DataFrame with the `to_dataframe()` method."
      ],
      "metadata": {
        "id": "yVWZhjJP4O1y"
      }
    },
    {
      "cell_type": "code",
      "source": [
        "# Preview the first five lines of the \"full\" table\n",
        "client.list_rows(table, max_results=5).to_dataframe()"
      ],
      "metadata": {
        "colab": {
          "base_uri": "https://localhost:8080/",
          "height": 411
        },
        "id": "xB-o10Pv37ZS",
        "outputId": "bfc98c8b-3cc3-4bbe-8f55-8fc0032c60fd"
      },
      "execution_count": 12,
      "outputs": [
        {
          "output_type": "execute_result",
          "data": {
            "text/plain": [
              "   unique_key case_number                      date                block  \\\n",
              "0     4954348    HM567052 2006-08-28 11:05:00+00:00  006XX W RANDOLPH ST   \n",
              "1     3255033    HK280478 2004-04-03 16:24:00+00:00   005XX W MADISON ST   \n",
              "2    12859590    JF435025 2022-10-15 01:04:00+00:00    0000X E WACKER DR   \n",
              "3    12515419    JE413487 2021-10-18 08:34:00+00:00    0000X E WACKER DR   \n",
              "4     6757567    HR170212 2009-02-14 12:40:00+00:00     002XX S CANAL ST   \n",
              "\n",
              "   iucr primary_type      description            location_description  arrest  \\\n",
              "0  031A      ROBBERY   ARMED: HANDGUN  PARKING LOT/GARAGE(NON.RESID.)   False   \n",
              "1  031A      ROBBERY   ARMED: HANDGUN                           ALLEY   False   \n",
              "2  031A      ROBBERY  ARMED - HANDGUN               CONVENIENCE STORE   False   \n",
              "3  031A      ROBBERY  ARMED - HANDGUN               CONVENIENCE STORE   False   \n",
              "4  031A      ROBBERY   ARMED: HANDGUN                        SIDEWALK   False   \n",
              "\n",
              "   domestic  ...  ward  community_area  fbi_code  x_coordinate y_coordinate  \\\n",
              "0     False  ...    42              28        03     1172203.0    1901233.0   \n",
              "1     False  ...    42              28        03     1173039.0    1900311.0   \n",
              "2     False  ...    42              32        03     1176621.0    1902155.0   \n",
              "3     False  ...    42              32        03     1176621.0    1902155.0   \n",
              "4     False  ...     2              28        03     1173177.0    1899236.0   \n",
              "\n",
              "   year                updated_on   latitude  longitude  \\\n",
              "0  2006 2018-02-10 15:50:01+00:00  41.884432 -87.643103   \n",
              "1  2004 2018-02-28 15:56:25+00:00  41.881884 -87.640060   \n",
              "2  2022 2023-01-03 15:40:27+00:00  41.886864 -87.626852   \n",
              "3  2021 2021-10-25 15:42:49+00:00  41.886864 -87.626852   \n",
              "4  2009 2018-02-28 15:56:25+00:00  41.878931 -87.639586   \n",
              "\n",
              "                        location  \n",
              "0  (41.884432451, -87.643102964)  \n",
              "1  (41.881883933, -87.640060441)  \n",
              "2  (41.886863814, -87.626851797)  \n",
              "3  (41.886863814, -87.626851797)  \n",
              "4  (41.878931004, -87.639585621)  \n",
              "\n",
              "[5 rows x 22 columns]"
            ],
            "text/html": [
              "\n",
              "  <div id=\"df-03ad2167-66a3-49d5-9dbb-bd04f33ae312\" class=\"colab-df-container\">\n",
              "    <div>\n",
              "<style scoped>\n",
              "    .dataframe tbody tr th:only-of-type {\n",
              "        vertical-align: middle;\n",
              "    }\n",
              "\n",
              "    .dataframe tbody tr th {\n",
              "        vertical-align: top;\n",
              "    }\n",
              "\n",
              "    .dataframe thead th {\n",
              "        text-align: right;\n",
              "    }\n",
              "</style>\n",
              "<table border=\"1\" class=\"dataframe\">\n",
              "  <thead>\n",
              "    <tr style=\"text-align: right;\">\n",
              "      <th></th>\n",
              "      <th>unique_key</th>\n",
              "      <th>case_number</th>\n",
              "      <th>date</th>\n",
              "      <th>block</th>\n",
              "      <th>iucr</th>\n",
              "      <th>primary_type</th>\n",
              "      <th>description</th>\n",
              "      <th>location_description</th>\n",
              "      <th>arrest</th>\n",
              "      <th>domestic</th>\n",
              "      <th>...</th>\n",
              "      <th>ward</th>\n",
              "      <th>community_area</th>\n",
              "      <th>fbi_code</th>\n",
              "      <th>x_coordinate</th>\n",
              "      <th>y_coordinate</th>\n",
              "      <th>year</th>\n",
              "      <th>updated_on</th>\n",
              "      <th>latitude</th>\n",
              "      <th>longitude</th>\n",
              "      <th>location</th>\n",
              "    </tr>\n",
              "  </thead>\n",
              "  <tbody>\n",
              "    <tr>\n",
              "      <th>0</th>\n",
              "      <td>4954348</td>\n",
              "      <td>HM567052</td>\n",
              "      <td>2006-08-28 11:05:00+00:00</td>\n",
              "      <td>006XX W RANDOLPH ST</td>\n",
              "      <td>031A</td>\n",
              "      <td>ROBBERY</td>\n",
              "      <td>ARMED: HANDGUN</td>\n",
              "      <td>PARKING LOT/GARAGE(NON.RESID.)</td>\n",
              "      <td>False</td>\n",
              "      <td>False</td>\n",
              "      <td>...</td>\n",
              "      <td>42</td>\n",
              "      <td>28</td>\n",
              "      <td>03</td>\n",
              "      <td>1172203.0</td>\n",
              "      <td>1901233.0</td>\n",
              "      <td>2006</td>\n",
              "      <td>2018-02-10 15:50:01+00:00</td>\n",
              "      <td>41.884432</td>\n",
              "      <td>-87.643103</td>\n",
              "      <td>(41.884432451, -87.643102964)</td>\n",
              "    </tr>\n",
              "    <tr>\n",
              "      <th>1</th>\n",
              "      <td>3255033</td>\n",
              "      <td>HK280478</td>\n",
              "      <td>2004-04-03 16:24:00+00:00</td>\n",
              "      <td>005XX W MADISON ST</td>\n",
              "      <td>031A</td>\n",
              "      <td>ROBBERY</td>\n",
              "      <td>ARMED: HANDGUN</td>\n",
              "      <td>ALLEY</td>\n",
              "      <td>False</td>\n",
              "      <td>False</td>\n",
              "      <td>...</td>\n",
              "      <td>42</td>\n",
              "      <td>28</td>\n",
              "      <td>03</td>\n",
              "      <td>1173039.0</td>\n",
              "      <td>1900311.0</td>\n",
              "      <td>2004</td>\n",
              "      <td>2018-02-28 15:56:25+00:00</td>\n",
              "      <td>41.881884</td>\n",
              "      <td>-87.640060</td>\n",
              "      <td>(41.881883933, -87.640060441)</td>\n",
              "    </tr>\n",
              "    <tr>\n",
              "      <th>2</th>\n",
              "      <td>12859590</td>\n",
              "      <td>JF435025</td>\n",
              "      <td>2022-10-15 01:04:00+00:00</td>\n",
              "      <td>0000X E WACKER DR</td>\n",
              "      <td>031A</td>\n",
              "      <td>ROBBERY</td>\n",
              "      <td>ARMED - HANDGUN</td>\n",
              "      <td>CONVENIENCE STORE</td>\n",
              "      <td>False</td>\n",
              "      <td>False</td>\n",
              "      <td>...</td>\n",
              "      <td>42</td>\n",
              "      <td>32</td>\n",
              "      <td>03</td>\n",
              "      <td>1176621.0</td>\n",
              "      <td>1902155.0</td>\n",
              "      <td>2022</td>\n",
              "      <td>2023-01-03 15:40:27+00:00</td>\n",
              "      <td>41.886864</td>\n",
              "      <td>-87.626852</td>\n",
              "      <td>(41.886863814, -87.626851797)</td>\n",
              "    </tr>\n",
              "    <tr>\n",
              "      <th>3</th>\n",
              "      <td>12515419</td>\n",
              "      <td>JE413487</td>\n",
              "      <td>2021-10-18 08:34:00+00:00</td>\n",
              "      <td>0000X E WACKER DR</td>\n",
              "      <td>031A</td>\n",
              "      <td>ROBBERY</td>\n",
              "      <td>ARMED - HANDGUN</td>\n",
              "      <td>CONVENIENCE STORE</td>\n",
              "      <td>False</td>\n",
              "      <td>False</td>\n",
              "      <td>...</td>\n",
              "      <td>42</td>\n",
              "      <td>32</td>\n",
              "      <td>03</td>\n",
              "      <td>1176621.0</td>\n",
              "      <td>1902155.0</td>\n",
              "      <td>2021</td>\n",
              "      <td>2021-10-25 15:42:49+00:00</td>\n",
              "      <td>41.886864</td>\n",
              "      <td>-87.626852</td>\n",
              "      <td>(41.886863814, -87.626851797)</td>\n",
              "    </tr>\n",
              "    <tr>\n",
              "      <th>4</th>\n",
              "      <td>6757567</td>\n",
              "      <td>HR170212</td>\n",
              "      <td>2009-02-14 12:40:00+00:00</td>\n",
              "      <td>002XX S CANAL ST</td>\n",
              "      <td>031A</td>\n",
              "      <td>ROBBERY</td>\n",
              "      <td>ARMED: HANDGUN</td>\n",
              "      <td>SIDEWALK</td>\n",
              "      <td>False</td>\n",
              "      <td>False</td>\n",
              "      <td>...</td>\n",
              "      <td>2</td>\n",
              "      <td>28</td>\n",
              "      <td>03</td>\n",
              "      <td>1173177.0</td>\n",
              "      <td>1899236.0</td>\n",
              "      <td>2009</td>\n",
              "      <td>2018-02-28 15:56:25+00:00</td>\n",
              "      <td>41.878931</td>\n",
              "      <td>-87.639586</td>\n",
              "      <td>(41.878931004, -87.639585621)</td>\n",
              "    </tr>\n",
              "  </tbody>\n",
              "</table>\n",
              "<p>5 rows × 22 columns</p>\n",
              "</div>\n",
              "    <div class=\"colab-df-buttons\">\n",
              "\n",
              "  <div class=\"colab-df-container\">\n",
              "    <button class=\"colab-df-convert\" onclick=\"convertToInteractive('df-03ad2167-66a3-49d5-9dbb-bd04f33ae312')\"\n",
              "            title=\"Convert this dataframe to an interactive table.\"\n",
              "            style=\"display:none;\">\n",
              "\n",
              "  <svg xmlns=\"http://www.w3.org/2000/svg\" height=\"24px\" viewBox=\"0 -960 960 960\">\n",
              "    <path d=\"M120-120v-720h720v720H120Zm60-500h600v-160H180v160Zm220 220h160v-160H400v160Zm0 220h160v-160H400v160ZM180-400h160v-160H180v160Zm440 0h160v-160H620v160ZM180-180h160v-160H180v160Zm440 0h160v-160H620v160Z\"/>\n",
              "  </svg>\n",
              "    </button>\n",
              "\n",
              "  <style>\n",
              "    .colab-df-container {\n",
              "      display:flex;\n",
              "      gap: 12px;\n",
              "    }\n",
              "\n",
              "    .colab-df-convert {\n",
              "      background-color: #E8F0FE;\n",
              "      border: none;\n",
              "      border-radius: 50%;\n",
              "      cursor: pointer;\n",
              "      display: none;\n",
              "      fill: #1967D2;\n",
              "      height: 32px;\n",
              "      padding: 0 0 0 0;\n",
              "      width: 32px;\n",
              "    }\n",
              "\n",
              "    .colab-df-convert:hover {\n",
              "      background-color: #E2EBFA;\n",
              "      box-shadow: 0px 1px 2px rgba(60, 64, 67, 0.3), 0px 1px 3px 1px rgba(60, 64, 67, 0.15);\n",
              "      fill: #174EA6;\n",
              "    }\n",
              "\n",
              "    .colab-df-buttons div {\n",
              "      margin-bottom: 4px;\n",
              "    }\n",
              "\n",
              "    [theme=dark] .colab-df-convert {\n",
              "      background-color: #3B4455;\n",
              "      fill: #D2E3FC;\n",
              "    }\n",
              "\n",
              "    [theme=dark] .colab-df-convert:hover {\n",
              "      background-color: #434B5C;\n",
              "      box-shadow: 0px 1px 3px 1px rgba(0, 0, 0, 0.15);\n",
              "      filter: drop-shadow(0px 1px 2px rgba(0, 0, 0, 0.3));\n",
              "      fill: #FFFFFF;\n",
              "    }\n",
              "  </style>\n",
              "\n",
              "    <script>\n",
              "      const buttonEl =\n",
              "        document.querySelector('#df-03ad2167-66a3-49d5-9dbb-bd04f33ae312 button.colab-df-convert');\n",
              "      buttonEl.style.display =\n",
              "        google.colab.kernel.accessAllowed ? 'block' : 'none';\n",
              "\n",
              "      async function convertToInteractive(key) {\n",
              "        const element = document.querySelector('#df-03ad2167-66a3-49d5-9dbb-bd04f33ae312');\n",
              "        const dataTable =\n",
              "          await google.colab.kernel.invokeFunction('convertToInteractive',\n",
              "                                                    [key], {});\n",
              "        if (!dataTable) return;\n",
              "\n",
              "        const docLinkHtml = 'Like what you see? Visit the ' +\n",
              "          '<a target=\"_blank\" href=https://colab.research.google.com/notebooks/data_table.ipynb>data table notebook</a>'\n",
              "          + ' to learn more about interactive tables.';\n",
              "        element.innerHTML = '';\n",
              "        dataTable['output_type'] = 'display_data';\n",
              "        await google.colab.output.renderOutput(dataTable, element);\n",
              "        const docLink = document.createElement('div');\n",
              "        docLink.innerHTML = docLinkHtml;\n",
              "        element.appendChild(docLink);\n",
              "      }\n",
              "    </script>\n",
              "  </div>\n",
              "\n",
              "\n",
              "<div id=\"df-09ad21e1-8888-4d70-87e7-659153c07b05\">\n",
              "  <button class=\"colab-df-quickchart\" onclick=\"quickchart('df-09ad21e1-8888-4d70-87e7-659153c07b05')\"\n",
              "            title=\"Suggest charts\"\n",
              "            style=\"display:none;\">\n",
              "\n",
              "<svg xmlns=\"http://www.w3.org/2000/svg\" height=\"24px\"viewBox=\"0 0 24 24\"\n",
              "     width=\"24px\">\n",
              "    <g>\n",
              "        <path d=\"M19 3H5c-1.1 0-2 .9-2 2v14c0 1.1.9 2 2 2h14c1.1 0 2-.9 2-2V5c0-1.1-.9-2-2-2zM9 17H7v-7h2v7zm4 0h-2V7h2v10zm4 0h-2v-4h2v4z\"/>\n",
              "    </g>\n",
              "</svg>\n",
              "  </button>\n",
              "\n",
              "<style>\n",
              "  .colab-df-quickchart {\n",
              "      --bg-color: #E8F0FE;\n",
              "      --fill-color: #1967D2;\n",
              "      --hover-bg-color: #E2EBFA;\n",
              "      --hover-fill-color: #174EA6;\n",
              "      --disabled-fill-color: #AAA;\n",
              "      --disabled-bg-color: #DDD;\n",
              "  }\n",
              "\n",
              "  [theme=dark] .colab-df-quickchart {\n",
              "      --bg-color: #3B4455;\n",
              "      --fill-color: #D2E3FC;\n",
              "      --hover-bg-color: #434B5C;\n",
              "      --hover-fill-color: #FFFFFF;\n",
              "      --disabled-bg-color: #3B4455;\n",
              "      --disabled-fill-color: #666;\n",
              "  }\n",
              "\n",
              "  .colab-df-quickchart {\n",
              "    background-color: var(--bg-color);\n",
              "    border: none;\n",
              "    border-radius: 50%;\n",
              "    cursor: pointer;\n",
              "    display: none;\n",
              "    fill: var(--fill-color);\n",
              "    height: 32px;\n",
              "    padding: 0;\n",
              "    width: 32px;\n",
              "  }\n",
              "\n",
              "  .colab-df-quickchart:hover {\n",
              "    background-color: var(--hover-bg-color);\n",
              "    box-shadow: 0 1px 2px rgba(60, 64, 67, 0.3), 0 1px 3px 1px rgba(60, 64, 67, 0.15);\n",
              "    fill: var(--button-hover-fill-color);\n",
              "  }\n",
              "\n",
              "  .colab-df-quickchart-complete:disabled,\n",
              "  .colab-df-quickchart-complete:disabled:hover {\n",
              "    background-color: var(--disabled-bg-color);\n",
              "    fill: var(--disabled-fill-color);\n",
              "    box-shadow: none;\n",
              "  }\n",
              "\n",
              "  .colab-df-spinner {\n",
              "    border: 2px solid var(--fill-color);\n",
              "    border-color: transparent;\n",
              "    border-bottom-color: var(--fill-color);\n",
              "    animation:\n",
              "      spin 1s steps(1) infinite;\n",
              "  }\n",
              "\n",
              "  @keyframes spin {\n",
              "    0% {\n",
              "      border-color: transparent;\n",
              "      border-bottom-color: var(--fill-color);\n",
              "      border-left-color: var(--fill-color);\n",
              "    }\n",
              "    20% {\n",
              "      border-color: transparent;\n",
              "      border-left-color: var(--fill-color);\n",
              "      border-top-color: var(--fill-color);\n",
              "    }\n",
              "    30% {\n",
              "      border-color: transparent;\n",
              "      border-left-color: var(--fill-color);\n",
              "      border-top-color: var(--fill-color);\n",
              "      border-right-color: var(--fill-color);\n",
              "    }\n",
              "    40% {\n",
              "      border-color: transparent;\n",
              "      border-right-color: var(--fill-color);\n",
              "      border-top-color: var(--fill-color);\n",
              "    }\n",
              "    60% {\n",
              "      border-color: transparent;\n",
              "      border-right-color: var(--fill-color);\n",
              "    }\n",
              "    80% {\n",
              "      border-color: transparent;\n",
              "      border-right-color: var(--fill-color);\n",
              "      border-bottom-color: var(--fill-color);\n",
              "    }\n",
              "    90% {\n",
              "      border-color: transparent;\n",
              "      border-bottom-color: var(--fill-color);\n",
              "    }\n",
              "  }\n",
              "</style>\n",
              "\n",
              "  <script>\n",
              "    async function quickchart(key) {\n",
              "      const quickchartButtonEl =\n",
              "        document.querySelector('#' + key + ' button');\n",
              "      quickchartButtonEl.disabled = true;  // To prevent multiple clicks.\n",
              "      quickchartButtonEl.classList.add('colab-df-spinner');\n",
              "      try {\n",
              "        const charts = await google.colab.kernel.invokeFunction(\n",
              "            'suggestCharts', [key], {});\n",
              "      } catch (error) {\n",
              "        console.error('Error during call to suggestCharts:', error);\n",
              "      }\n",
              "      quickchartButtonEl.classList.remove('colab-df-spinner');\n",
              "      quickchartButtonEl.classList.add('colab-df-quickchart-complete');\n",
              "    }\n",
              "    (() => {\n",
              "      let quickchartButtonEl =\n",
              "        document.querySelector('#df-09ad21e1-8888-4d70-87e7-659153c07b05 button');\n",
              "      quickchartButtonEl.style.display =\n",
              "        google.colab.kernel.accessAllowed ? 'block' : 'none';\n",
              "    })();\n",
              "  </script>\n",
              "</div>\n",
              "\n",
              "    </div>\n",
              "  </div>\n"
            ],
            "application/vnd.google.colaboratory.intrinsic+json": {
              "type": "dataframe"
            }
          },
          "metadata": {},
          "execution_count": 12
        }
      ]
    },
    {
      "cell_type": "markdown",
      "source": [
        "The `list_rows()` method will also let us look at just the information in a specific column. If we want to see the first five entries in the `case_number` column, for example, we can do that"
      ],
      "metadata": {
        "id": "4Qlun_uE5qne"
      }
    },
    {
      "cell_type": "code",
      "source": [
        "# Preview first five entries in the \"case_number\" column of the table \"crime\"\n",
        "client.list_rows(table, selected_fields=table.schema[1:2], max_results=5).to_dataframe()"
      ],
      "metadata": {
        "colab": {
          "base_uri": "https://localhost:8080/",
          "height": 206
        },
        "id": "ON_vcMW95XZN",
        "outputId": "26df6831-7cfd-4daf-9490-2e92c0c05005"
      },
      "execution_count": 23,
      "outputs": [
        {
          "output_type": "execute_result",
          "data": {
            "text/plain": [
              "  case_number\n",
              "0    HM567052\n",
              "1    HK280478\n",
              "2    JF435025\n",
              "3    JE413487\n",
              "4    HR170212"
            ],
            "text/html": [
              "\n",
              "  <div id=\"df-f19c42fc-233b-4e5c-9c8a-45aced43b26a\" class=\"colab-df-container\">\n",
              "    <div>\n",
              "<style scoped>\n",
              "    .dataframe tbody tr th:only-of-type {\n",
              "        vertical-align: middle;\n",
              "    }\n",
              "\n",
              "    .dataframe tbody tr th {\n",
              "        vertical-align: top;\n",
              "    }\n",
              "\n",
              "    .dataframe thead th {\n",
              "        text-align: right;\n",
              "    }\n",
              "</style>\n",
              "<table border=\"1\" class=\"dataframe\">\n",
              "  <thead>\n",
              "    <tr style=\"text-align: right;\">\n",
              "      <th></th>\n",
              "      <th>case_number</th>\n",
              "    </tr>\n",
              "  </thead>\n",
              "  <tbody>\n",
              "    <tr>\n",
              "      <th>0</th>\n",
              "      <td>HM567052</td>\n",
              "    </tr>\n",
              "    <tr>\n",
              "      <th>1</th>\n",
              "      <td>HK280478</td>\n",
              "    </tr>\n",
              "    <tr>\n",
              "      <th>2</th>\n",
              "      <td>JF435025</td>\n",
              "    </tr>\n",
              "    <tr>\n",
              "      <th>3</th>\n",
              "      <td>JE413487</td>\n",
              "    </tr>\n",
              "    <tr>\n",
              "      <th>4</th>\n",
              "      <td>HR170212</td>\n",
              "    </tr>\n",
              "  </tbody>\n",
              "</table>\n",
              "</div>\n",
              "    <div class=\"colab-df-buttons\">\n",
              "\n",
              "  <div class=\"colab-df-container\">\n",
              "    <button class=\"colab-df-convert\" onclick=\"convertToInteractive('df-f19c42fc-233b-4e5c-9c8a-45aced43b26a')\"\n",
              "            title=\"Convert this dataframe to an interactive table.\"\n",
              "            style=\"display:none;\">\n",
              "\n",
              "  <svg xmlns=\"http://www.w3.org/2000/svg\" height=\"24px\" viewBox=\"0 -960 960 960\">\n",
              "    <path d=\"M120-120v-720h720v720H120Zm60-500h600v-160H180v160Zm220 220h160v-160H400v160Zm0 220h160v-160H400v160ZM180-400h160v-160H180v160Zm440 0h160v-160H620v160ZM180-180h160v-160H180v160Zm440 0h160v-160H620v160Z\"/>\n",
              "  </svg>\n",
              "    </button>\n",
              "\n",
              "  <style>\n",
              "    .colab-df-container {\n",
              "      display:flex;\n",
              "      gap: 12px;\n",
              "    }\n",
              "\n",
              "    .colab-df-convert {\n",
              "      background-color: #E8F0FE;\n",
              "      border: none;\n",
              "      border-radius: 50%;\n",
              "      cursor: pointer;\n",
              "      display: none;\n",
              "      fill: #1967D2;\n",
              "      height: 32px;\n",
              "      padding: 0 0 0 0;\n",
              "      width: 32px;\n",
              "    }\n",
              "\n",
              "    .colab-df-convert:hover {\n",
              "      background-color: #E2EBFA;\n",
              "      box-shadow: 0px 1px 2px rgba(60, 64, 67, 0.3), 0px 1px 3px 1px rgba(60, 64, 67, 0.15);\n",
              "      fill: #174EA6;\n",
              "    }\n",
              "\n",
              "    .colab-df-buttons div {\n",
              "      margin-bottom: 4px;\n",
              "    }\n",
              "\n",
              "    [theme=dark] .colab-df-convert {\n",
              "      background-color: #3B4455;\n",
              "      fill: #D2E3FC;\n",
              "    }\n",
              "\n",
              "    [theme=dark] .colab-df-convert:hover {\n",
              "      background-color: #434B5C;\n",
              "      box-shadow: 0px 1px 3px 1px rgba(0, 0, 0, 0.15);\n",
              "      filter: drop-shadow(0px 1px 2px rgba(0, 0, 0, 0.3));\n",
              "      fill: #FFFFFF;\n",
              "    }\n",
              "  </style>\n",
              "\n",
              "    <script>\n",
              "      const buttonEl =\n",
              "        document.querySelector('#df-f19c42fc-233b-4e5c-9c8a-45aced43b26a button.colab-df-convert');\n",
              "      buttonEl.style.display =\n",
              "        google.colab.kernel.accessAllowed ? 'block' : 'none';\n",
              "\n",
              "      async function convertToInteractive(key) {\n",
              "        const element = document.querySelector('#df-f19c42fc-233b-4e5c-9c8a-45aced43b26a');\n",
              "        const dataTable =\n",
              "          await google.colab.kernel.invokeFunction('convertToInteractive',\n",
              "                                                    [key], {});\n",
              "        if (!dataTable) return;\n",
              "\n",
              "        const docLinkHtml = 'Like what you see? Visit the ' +\n",
              "          '<a target=\"_blank\" href=https://colab.research.google.com/notebooks/data_table.ipynb>data table notebook</a>'\n",
              "          + ' to learn more about interactive tables.';\n",
              "        element.innerHTML = '';\n",
              "        dataTable['output_type'] = 'display_data';\n",
              "        await google.colab.output.renderOutput(dataTable, element);\n",
              "        const docLink = document.createElement('div');\n",
              "        docLink.innerHTML = docLinkHtml;\n",
              "        element.appendChild(docLink);\n",
              "      }\n",
              "    </script>\n",
              "  </div>\n",
              "\n",
              "\n",
              "<div id=\"df-217e296a-f89b-4358-913f-f1b7d5e59117\">\n",
              "  <button class=\"colab-df-quickchart\" onclick=\"quickchart('df-217e296a-f89b-4358-913f-f1b7d5e59117')\"\n",
              "            title=\"Suggest charts\"\n",
              "            style=\"display:none;\">\n",
              "\n",
              "<svg xmlns=\"http://www.w3.org/2000/svg\" height=\"24px\"viewBox=\"0 0 24 24\"\n",
              "     width=\"24px\">\n",
              "    <g>\n",
              "        <path d=\"M19 3H5c-1.1 0-2 .9-2 2v14c0 1.1.9 2 2 2h14c1.1 0 2-.9 2-2V5c0-1.1-.9-2-2-2zM9 17H7v-7h2v7zm4 0h-2V7h2v10zm4 0h-2v-4h2v4z\"/>\n",
              "    </g>\n",
              "</svg>\n",
              "  </button>\n",
              "\n",
              "<style>\n",
              "  .colab-df-quickchart {\n",
              "      --bg-color: #E8F0FE;\n",
              "      --fill-color: #1967D2;\n",
              "      --hover-bg-color: #E2EBFA;\n",
              "      --hover-fill-color: #174EA6;\n",
              "      --disabled-fill-color: #AAA;\n",
              "      --disabled-bg-color: #DDD;\n",
              "  }\n",
              "\n",
              "  [theme=dark] .colab-df-quickchart {\n",
              "      --bg-color: #3B4455;\n",
              "      --fill-color: #D2E3FC;\n",
              "      --hover-bg-color: #434B5C;\n",
              "      --hover-fill-color: #FFFFFF;\n",
              "      --disabled-bg-color: #3B4455;\n",
              "      --disabled-fill-color: #666;\n",
              "  }\n",
              "\n",
              "  .colab-df-quickchart {\n",
              "    background-color: var(--bg-color);\n",
              "    border: none;\n",
              "    border-radius: 50%;\n",
              "    cursor: pointer;\n",
              "    display: none;\n",
              "    fill: var(--fill-color);\n",
              "    height: 32px;\n",
              "    padding: 0;\n",
              "    width: 32px;\n",
              "  }\n",
              "\n",
              "  .colab-df-quickchart:hover {\n",
              "    background-color: var(--hover-bg-color);\n",
              "    box-shadow: 0 1px 2px rgba(60, 64, 67, 0.3), 0 1px 3px 1px rgba(60, 64, 67, 0.15);\n",
              "    fill: var(--button-hover-fill-color);\n",
              "  }\n",
              "\n",
              "  .colab-df-quickchart-complete:disabled,\n",
              "  .colab-df-quickchart-complete:disabled:hover {\n",
              "    background-color: var(--disabled-bg-color);\n",
              "    fill: var(--disabled-fill-color);\n",
              "    box-shadow: none;\n",
              "  }\n",
              "\n",
              "  .colab-df-spinner {\n",
              "    border: 2px solid var(--fill-color);\n",
              "    border-color: transparent;\n",
              "    border-bottom-color: var(--fill-color);\n",
              "    animation:\n",
              "      spin 1s steps(1) infinite;\n",
              "  }\n",
              "\n",
              "  @keyframes spin {\n",
              "    0% {\n",
              "      border-color: transparent;\n",
              "      border-bottom-color: var(--fill-color);\n",
              "      border-left-color: var(--fill-color);\n",
              "    }\n",
              "    20% {\n",
              "      border-color: transparent;\n",
              "      border-left-color: var(--fill-color);\n",
              "      border-top-color: var(--fill-color);\n",
              "    }\n",
              "    30% {\n",
              "      border-color: transparent;\n",
              "      border-left-color: var(--fill-color);\n",
              "      border-top-color: var(--fill-color);\n",
              "      border-right-color: var(--fill-color);\n",
              "    }\n",
              "    40% {\n",
              "      border-color: transparent;\n",
              "      border-right-color: var(--fill-color);\n",
              "      border-top-color: var(--fill-color);\n",
              "    }\n",
              "    60% {\n",
              "      border-color: transparent;\n",
              "      border-right-color: var(--fill-color);\n",
              "    }\n",
              "    80% {\n",
              "      border-color: transparent;\n",
              "      border-right-color: var(--fill-color);\n",
              "      border-bottom-color: var(--fill-color);\n",
              "    }\n",
              "    90% {\n",
              "      border-color: transparent;\n",
              "      border-bottom-color: var(--fill-color);\n",
              "    }\n",
              "  }\n",
              "</style>\n",
              "\n",
              "  <script>\n",
              "    async function quickchart(key) {\n",
              "      const quickchartButtonEl =\n",
              "        document.querySelector('#' + key + ' button');\n",
              "      quickchartButtonEl.disabled = true;  // To prevent multiple clicks.\n",
              "      quickchartButtonEl.classList.add('colab-df-spinner');\n",
              "      try {\n",
              "        const charts = await google.colab.kernel.invokeFunction(\n",
              "            'suggestCharts', [key], {});\n",
              "      } catch (error) {\n",
              "        console.error('Error during call to suggestCharts:', error);\n",
              "      }\n",
              "      quickchartButtonEl.classList.remove('colab-df-spinner');\n",
              "      quickchartButtonEl.classList.add('colab-df-quickchart-complete');\n",
              "    }\n",
              "    (() => {\n",
              "      let quickchartButtonEl =\n",
              "        document.querySelector('#df-217e296a-f89b-4358-913f-f1b7d5e59117 button');\n",
              "      quickchartButtonEl.style.display =\n",
              "        google.colab.kernel.accessAllowed ? 'block' : 'none';\n",
              "    })();\n",
              "  </script>\n",
              "</div>\n",
              "\n",
              "    </div>\n",
              "  </div>\n"
            ],
            "application/vnd.google.colaboratory.intrinsic+json": {
              "type": "dataframe",
              "summary": "{\n  \"name\": \"client\",\n  \"rows\": 5,\n  \"fields\": [\n    {\n      \"column\": \"case_number\",\n      \"properties\": {\n        \"dtype\": \"string\",\n        \"num_unique_values\": 5,\n        \"samples\": [\n          \"HK280478\",\n          \"HR170212\",\n          \"JF435025\"\n        ],\n        \"semantic_type\": \"\",\n        \"description\": \"\"\n      }\n    }\n  ]\n}"
            }
          },
          "metadata": {},
          "execution_count": 23
        }
      ]
    },
    {
      "cell_type": "code",
      "source": [],
      "metadata": {
        "colab": {
          "base_uri": "https://localhost:8080/"
        },
        "id": "Nn1hcIDe6Ghs",
        "outputId": "cbed7a6c-e56a-45df-ee66-a5b99b02d929"
      },
      "execution_count": 22,
      "outputs": [
        {
          "output_type": "execute_result",
          "data": {
            "text/plain": [
              "SchemaField('date', 'TIMESTAMP', 'NULLABLE', None, None, (), None)"
            ]
          },
          "metadata": {},
          "execution_count": 22
        }
      ]
    }
  ]
}